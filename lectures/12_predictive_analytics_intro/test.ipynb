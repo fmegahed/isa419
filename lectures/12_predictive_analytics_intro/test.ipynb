{
  "cells": [
    {
      "cell_type": "raw",
      "metadata": {},
      "source": [
        "---\n",
        "title: Pycaret test\n",
        "format: html\n",
        "---"
      ],
      "id": "11d3e080"
    },
    {
      "cell_type": "markdown",
      "metadata": {},
      "source": [
        "```{r python_setup}\n",
        "reticulate::use_condaenv('isa419', required = TRUE)\n",
        "reticulate::py_config()\n",
        "reticulate::py_run_string('from pycaret.classification import *')\n",
        "```\n",
        "\n",
        "\n",
        "\n",
        "## R Reading the Data\n",
        "\n",
        "\n",
        "```{r etl_data}\n",
        "pacman::p_load(tidyverse, magrittr)\n",
        "\n",
        "df = read_csv(\"../../data/Portmap.csv\")\n",
        "\n",
        "df %<>% select ('Flow Duration', 'Total Fwd Packets',\n",
        "                'Total Backward Packets', 'Max Packet Length',\n",
        "                'Average Packet Size', 'Active Mean', 'Label')\n",
        "\n",
        "df %<>% group_by(Label) %>% sample_n(size = 4000)\n",
        "\n",
        "df %<>% ungroup() \n",
        "\n",
        "levels(df$Label) = list(Portmap = \"Portmap\", \n",
        "                        Benign = \"BENIGN\")\n",
        "\n",
        "table(df$Label)\n",
        "\n",
        "```\n",
        "\n",
        "\n",
        "\n",
        "## Python Code\n"
      ],
      "id": "1060cdc5"
    },
    {
      "cell_type": "code",
      "metadata": {},
      "source": [
        "df = r.df\n",
        "exp = setup(data = df, target = 'Label', session_id=123) "
      ],
      "id": "6f0d4155",
      "execution_count": null,
      "outputs": []
    },
    {
      "cell_type": "markdown",
      "metadata": {},
      "source": [
        "You can add options to executable code like this \n"
      ],
      "id": "22f0dfe3"
    },
    {
      "cell_type": "code",
      "metadata": {},
      "source": [
        "best_model = compare_models()"
      ],
      "id": "d0bdcda8",
      "execution_count": null,
      "outputs": []
    },
    {
      "cell_type": "markdown",
      "metadata": {},
      "source": [
        "The `echo: false` option disables the printing of code (only output is displayed)."
      ],
      "id": "c3ec3075"
    }
  ],
  "metadata": {
    "kernelspec": {
      "name": "python3",
      "language": "python",
      "display_name": "Python 3 (ipykernel)"
    }
  },
  "nbformat": 4,
  "nbformat_minor": 5
}